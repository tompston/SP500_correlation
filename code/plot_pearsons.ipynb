{
 "cells": [
  {
   "cell_type": "code",
   "execution_count": 1,
   "metadata": {},
   "outputs": [
    {
     "name": "stdout",
     "output_type": "stream",
     "text": [
      "['key_metrics.stockBasedCompensationToRevenue', 'financial_growth.revenueGrowth', 'enterprise_value.stockPrice', 'income_statement_growht.growthRevenue', 'key_metrics.roic', 'ratio.returnOnCapitalEmployed']\n"
     ]
    }
   ],
   "source": [
    "import matplotlib.pyplot as plt\n",
    "import pandas as pd\n",
    "import numpy as np\n",
    "\n",
    "df = pd.read_csv(r'../results/all/pearson_correlation_full.csv')\n",
    "df = df.replace({'0': np.nan, 0: np.nan})\n",
    "\n",
    "# get the 6 highest correlation variables\n",
    "df = df[1:7]\n",
    "\n",
    "highest_correlation_variables = []\n",
    "\n",
    "#  get the column that holds the \n",
    "for x in df.iloc[:, 0]:\n",
    "    highest_correlation_variables.append(x)\n",
    "\n",
    "print(highest_correlation_variables)"
   ]
  },
  {
   "cell_type": "code",
   "execution_count": 5,
   "metadata": {},
   "outputs": [
    {
     "name": "stdout",
     "output_type": "stream",
     "text": [
      "(1580, 2)\n",
      "             x         y\n",
      "1     0.034404  0.012926\n",
      "2    -0.317742  0.012854\n",
      "3     0.917591  0.012936\n",
      "5     0.847822  0.024877\n",
      "6     0.173436  0.023323\n",
      "...        ...       ...\n",
      "2476 -0.308994  0.001931\n",
      "2477  0.171269  0.002132\n",
      "2480 -0.102028  0.003856\n",
      "2481  0.260151  0.002898\n",
      "2482 -0.253538  0.003762\n",
      "\n",
      "[1580 rows x 2 columns]\n",
      "(1927, 2)\n",
      "             x         y\n",
      "0     0.253118  0.376901\n",
      "1     0.034404  0.015663\n",
      "2    -0.317742  0.160795\n",
      "3     0.917591  0.100554\n",
      "5     0.847822  0.055121\n",
      "...        ...       ...\n",
      "2477  0.171269  0.050448\n",
      "2479  0.085647  0.040923\n",
      "2480 -0.102028  0.013407\n",
      "2481  0.260151  0.022058\n",
      "2482 -0.253538 -0.020266\n",
      "\n",
      "[1927 rows x 2 columns]\n",
      "(1983, 2)\n",
      "             x           y\n",
      "0     0.253118  102.480003\n",
      "1     0.034404   81.779999\n",
      "2    -0.317742   79.059998\n",
      "3     0.917591  115.879997\n",
      "5     0.847822  115.050003\n",
      "...        ...         ...\n",
      "2477  0.171269   52.590000\n",
      "2479  0.085647  150.970001\n",
      "2480 -0.102028  139.059998\n",
      "2481  0.260151  154.860001\n",
      "2482 -0.253538  122.889999\n",
      "\n",
      "[1983 rows x 2 columns]\n",
      "(1907, 2)\n",
      "             x         y\n",
      "0     0.253118  0.376901\n",
      "1     0.034404  0.015663\n",
      "2    -0.317742  0.160795\n",
      "3     0.917591  0.100554\n",
      "5     0.847822  0.055121\n",
      "...        ...       ...\n",
      "2477  0.171269  0.050448\n",
      "2479  0.085647  0.040923\n",
      "2480 -0.102028  0.013407\n",
      "2481  0.260151  0.022058\n",
      "2482 -0.253538 -0.020266\n",
      "\n",
      "[1907 rows x 2 columns]\n",
      "(1733, 2)\n",
      "             x         y\n",
      "1     0.034404  0.114593\n",
      "2    -0.317742  0.123406\n",
      "3     0.917591  0.142709\n",
      "5     0.847822  0.307058\n",
      "6     0.173436  0.282378\n",
      "...        ...       ...\n",
      "2476 -0.308994  0.044346\n",
      "2477  0.171269  0.084651\n",
      "2480 -0.102028  0.094190\n",
      "2481  0.260151  0.107720\n",
      "2482 -0.253538  0.104006\n",
      "\n",
      "[1733 rows x 2 columns]\n",
      "(1734, 2)\n",
      "             x         y\n",
      "1     0.034404  0.114593\n",
      "2    -0.317742  0.123406\n",
      "3     0.917591  0.142709\n",
      "5     0.847822  0.307058\n",
      "6     0.173436  0.282378\n",
      "...        ...       ...\n",
      "2476 -0.308994  0.044346\n",
      "2477  0.171269  0.084651\n",
      "2480 -0.102028  0.094190\n",
      "2481  0.260151  0.107720\n",
      "2482 -0.253538  0.104006\n",
      "\n",
      "[1734 rows x 2 columns]\n"
     ]
    },
    {
     "name": "stderr",
     "output_type": "stream",
     "text": [
      "/var/folders/g0/6mj4j7tn64d4mbtlryyyb6s40000gn/T/ipykernel_14347/3277430899.py:1: DtypeWarning: Columns (324) have mixed types. Specify dtype option on import or set low_memory=False.\n",
      "  db = pd.read_csv(r'../S&P500_information_and_reportss.csv')\n"
     ]
    },
    {
     "data": {
      "image/png": "[encoded data removed]",
      "text/plain": [
       "<Figure size 432x288 with 6 Axes>"
      ]
     },
     "metadata": {
      "needs_background": "light"
     },
     "output_type": "display_data"
    }
   ],
   "source": [
    "db = pd.read_csv(r'../S&P500_information_and_reportss.csv')\n",
    "db = db.replace({'0': np.nan, 0: np.nan})\n",
    "\n",
    "fig, axes = plt.subplots(nrows=3, ncols=2)\n",
    "\n",
    "for target in highest_correlation_variables:\n",
    "\n",
    "    annual_stock_increase = db[\"enterprise_value.annual_stock_increase\"]\n",
    "\n",
    "    for financial_variable in db.columns:\n",
    "        # print(financial_variable)\n",
    "\n",
    "        if financial_variable == target:\n",
    "            # print(financial_variable)\n",
    "\n",
    "            combined = pd.DataFrame()\n",
    "            y = db[financial_variable]\n",
    "            # print(y)\n",
    "\n",
    "            combined['x'] = annual_stock_increase\n",
    "            combined['y'] = y\n",
    "            combined = combined.dropna()   \n",
    "            print(combined.shape)\n",
    "            print(combined)\n",
    "\n",
    "            # plt.plot(combined['y'], combined['x'])\n",
    "            # plt.subplot(combined['y'], combined['x'])\n",
    "            # plt.show()\n"
   ]
  }
 ],
 "metadata": {
  "interpreter": {
   "hash": "b0fa6594d8f4cbf19f97940f81e996739fb7646882a419484c72d19e05852a7e"
  },
  "kernelspec": {
   "display_name": "Python 3.9.10 64-bit",
   "language": "python",
   "name": "python3"
  },
  "language_info": {
   "codemirror_mode": {
    "name": "ipython",
    "version": 3
   },
   "file_extension": ".py",
   "mimetype": "text/x-python",
   "name": "python",
   "nbconvert_exporter": "python",
   "pygments_lexer": "ipython3",
   "version": "3.9.10"
  },
  "orig_nbformat": 4
 },
 "nbformat": 4,
 "nbformat_minor": 2
}
